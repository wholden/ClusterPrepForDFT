{
 "cells": [
  {
   "cell_type": "code",
   "execution_count": null,
   "id": "d4527508",
   "metadata": {},
   "outputs": [],
   "source": [
    "from ClusterPrepForDFT import backend"
   ]
  },
  {
   "cell_type": "code",
   "execution_count": null,
   "id": "6cf6d07c",
   "metadata": {},
   "outputs": [],
   "source": [
    "cluster = backend.MolecularCluster.from_file('C:/Users/holde/Documents/GitHub/ClusterPrepForDFT/TestCode/hematite.cif',\n",
    "                                  cluster_radius=8,\n",
    "                                  center_atom='Fe')"
   ]
  },
  {
   "cell_type": "code",
   "execution_count": null,
   "id": "3627db3c",
   "metadata": {},
   "outputs": [],
   "source": [
    "cluster.display_jupyter()"
   ]
  },
  {
   "cell_type": "code",
   "execution_count": null,
   "id": "da5c71d7",
   "metadata": {},
   "outputs": [],
   "source": []
  }
 ],
 "metadata": {
  "kernelspec": {
   "display_name": "Python 3",
   "language": "python",
   "name": "python3"
  },
  "language_info": {
   "codemirror_mode": {
    "name": "ipython",
    "version": 3
   },
   "file_extension": ".py",
   "mimetype": "text/x-python",
   "name": "python",
   "nbconvert_exporter": "python",
   "pygments_lexer": "ipython3",
   "version": "3.8.8"
  }
 },
 "nbformat": 4,
 "nbformat_minor": 5
}
