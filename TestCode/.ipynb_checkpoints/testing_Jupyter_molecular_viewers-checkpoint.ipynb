{
 "cells": [
  {
   "cell_type": "markdown",
   "id": "e9f5cf3b",
   "metadata": {},
   "source": [
    "A few different options:\n",
    "- NGL View: https://github.com/nglviewer/nglview\n",
    "- Crystal Toolkit (not ready yet?): https://docs.crystaltoolkit.org/jupyter.html, https://github.com/materialsproject/crystaltoolkit"
   ]
  },
  {
   "cell_type": "markdown",
   "id": "9745eb99",
   "metadata": {},
   "source": [
    "## NglView\n",
    "- Install ase (`conda install -c conda-forge ase`) to use `nglview.show_pymatgen(Structure)`"
   ]
  },
  {
   "cell_type": "code",
   "execution_count": 1,
   "id": "b7fcbfc8",
   "metadata": {},
   "outputs": [
    {
     "data": {
      "application/vnd.jupyter.widget-view+json": {
       "model_id": "63e0735786574f2fbe4883a0615235ca",
       "version_major": 2,
       "version_minor": 0
      },
      "text/plain": []
     },
     "metadata": {},
     "output_type": "display_data"
    }
   ],
   "source": [
    "import nglview"
   ]
  },
  {
   "cell_type": "code",
   "execution_count": 3,
   "id": "b11e8d67",
   "metadata": {},
   "outputs": [
    {
     "data": {
      "application/vnd.jupyter.widget-view+json": {
       "model_id": "5fe4fcc96dfe40a0893be9d792bb516a",
       "version_major": 2,
       "version_minor": 0
      },
      "text/plain": [
       "NGLWidget()"
      ]
     },
     "metadata": {},
     "output_type": "display_data"
    }
   ],
   "source": [
    "nglview.show_file('C:/Users/holde/Documents/GitHub/ClusterPrepForDFT/TestCode/aegirine.cif')"
   ]
  },
  {
   "cell_type": "code",
   "execution_count": 4,
   "id": "a3b67d57",
   "metadata": {},
   "outputs": [],
   "source": [
    "from pymatgen.core import Structure"
   ]
  },
  {
   "cell_type": "code",
   "execution_count": 5,
   "id": "cb34140f",
   "metadata": {},
   "outputs": [],
   "source": [
    "st = Structure.from_file('C:/Users/holde/Documents/GitHub/ClusterPrepForDFT/TestCode/hematite.cif')"
   ]
  },
  {
   "cell_type": "code",
   "execution_count": 6,
   "id": "48a55437",
   "metadata": {},
   "outputs": [
    {
     "ename": "ImportError",
     "evalue": "AseAtomsAdaptor requires ase package.\nUse `pip install ase` or `conda install ase -c conda-forge`",
     "output_type": "error",
     "traceback": [
      "\u001b[1;31m---------------------------------------------------------------------------\u001b[0m",
      "\u001b[1;31mImportError\u001b[0m                               Traceback (most recent call last)",
      "\u001b[1;32m<ipython-input-6-0be2515a15f1>\u001b[0m in \u001b[0;36m<module>\u001b[1;34m\u001b[0m\n\u001b[1;32m----> 1\u001b[1;33m \u001b[0mnglview\u001b[0m\u001b[1;33m.\u001b[0m\u001b[0mshow_pymatgen\u001b[0m\u001b[1;33m(\u001b[0m\u001b[0mst\u001b[0m\u001b[1;33m)\u001b[0m\u001b[1;33m\u001b[0m\u001b[1;33m\u001b[0m\u001b[0m\n\u001b[0m",
      "\u001b[1;32m~\\anaconda3\\lib\\site-packages\\nglview\\show.py\u001b[0m in \u001b[0;36mshow_pymatgen\u001b[1;34m(struct, **kwargs)\u001b[0m\n\u001b[0;32m    155\u001b[0m     \"\"\"\n\u001b[0;32m    156\u001b[0m     \u001b[1;32mfrom\u001b[0m \u001b[0mpymatgen\u001b[0m\u001b[1;33m.\u001b[0m\u001b[0mio\u001b[0m\u001b[1;33m.\u001b[0m\u001b[0mase\u001b[0m \u001b[1;32mimport\u001b[0m \u001b[0mAseAtomsAdaptor\u001b[0m\u001b[1;33m\u001b[0m\u001b[1;33m\u001b[0m\u001b[0m\n\u001b[1;32m--> 157\u001b[1;33m     \u001b[1;32mreturn\u001b[0m \u001b[0mshow_ase\u001b[0m\u001b[1;33m(\u001b[0m\u001b[0mAseAtomsAdaptor\u001b[0m\u001b[1;33m(\u001b[0m\u001b[1;33m)\u001b[0m\u001b[1;33m.\u001b[0m\u001b[0mget_atoms\u001b[0m\u001b[1;33m(\u001b[0m\u001b[0mstruct\u001b[0m\u001b[1;33m)\u001b[0m\u001b[1;33m)\u001b[0m\u001b[1;33m\u001b[0m\u001b[1;33m\u001b[0m\u001b[0m\n\u001b[0m\u001b[0;32m    158\u001b[0m \u001b[1;33m\u001b[0m\u001b[0m\n\u001b[0;32m    159\u001b[0m \u001b[1;33m\u001b[0m\u001b[0m\n",
      "\u001b[1;32m~\\anaconda3\\lib\\site-packages\\pymatgen\\io\\ase.py\u001b[0m in \u001b[0;36mget_atoms\u001b[1;34m(structure, **kwargs)\u001b[0m\n\u001b[0;32m     45\u001b[0m             \u001b[1;32mraise\u001b[0m \u001b[0mValueError\u001b[0m\u001b[1;33m(\u001b[0m\u001b[1;34m\"ASE Atoms only supports ordered structures\"\u001b[0m\u001b[1;33m)\u001b[0m\u001b[1;33m\u001b[0m\u001b[1;33m\u001b[0m\u001b[0m\n\u001b[0;32m     46\u001b[0m         \u001b[1;32mif\u001b[0m \u001b[1;32mnot\u001b[0m \u001b[0mase_loaded\u001b[0m\u001b[1;33m:\u001b[0m\u001b[1;33m\u001b[0m\u001b[1;33m\u001b[0m\u001b[0m\n\u001b[1;32m---> 47\u001b[1;33m             raise ImportError(\n\u001b[0m\u001b[0;32m     48\u001b[0m                 \u001b[1;34m\"AseAtomsAdaptor requires ase package.\\n\"\u001b[0m\u001b[1;33m\u001b[0m\u001b[1;33m\u001b[0m\u001b[0m\n\u001b[0;32m     49\u001b[0m                 \u001b[1;34m\"Use `pip install ase` or `conda install ase -c conda-forge`\"\u001b[0m\u001b[1;33m\u001b[0m\u001b[1;33m\u001b[0m\u001b[0m\n",
      "\u001b[1;31mImportError\u001b[0m: AseAtomsAdaptor requires ase package.\nUse `pip install ase` or `conda install ase -c conda-forge`"
     ]
    }
   ],
   "source": [
    "nglview.show_pymatgen(st)"
   ]
  },
  {
   "cell_type": "code",
   "execution_count": null,
   "id": "07136e27",
   "metadata": {},
   "outputs": [],
   "source": []
  }
 ],
 "metadata": {
  "kernelspec": {
   "display_name": "Python 3",
   "language": "python",
   "name": "python3"
  },
  "language_info": {
   "codemirror_mode": {
    "name": "ipython",
    "version": 3
   },
   "file_extension": ".py",
   "mimetype": "text/x-python",
   "name": "python",
   "nbconvert_exporter": "python",
   "pygments_lexer": "ipython3",
   "version": "3.8.8"
  }
 },
 "nbformat": 4,
 "nbformat_minor": 5
}
