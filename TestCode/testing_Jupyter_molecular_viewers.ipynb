{
 "cells": [
  {
   "cell_type": "markdown",
   "id": "e9f5cf3b",
   "metadata": {},
   "source": [
    "A few different options:\n",
    "- NGL View: https://github.com/nglviewer/nglview\n",
    "- Crystal Toolkit (not ready yet?): https://docs.crystaltoolkit.org/jupyter.html, https://github.com/materialsproject/crystaltoolkit"
   ]
  },
  {
   "cell_type": "markdown",
   "id": "9745eb99",
   "metadata": {},
   "source": [
    "## NglView\n",
    "- Install ase (`conda install -c conda-forge ase`) to use `nglview.show_pymatgen(Structure)`"
   ]
  },
  {
   "cell_type": "code",
   "execution_count": 1,
   "id": "b7fcbfc8",
   "metadata": {},
   "outputs": [
    {
     "data": {
      "application/vnd.jupyter.widget-view+json": {
       "model_id": "5614374ecfd8442f8046d412a85dbaa3",
       "version_major": 2,
       "version_minor": 0
      },
      "text/plain": []
     },
     "metadata": {},
     "output_type": "display_data"
    }
   ],
   "source": [
    "import nglview"
   ]
  },
  {
   "cell_type": "code",
   "execution_count": 2,
   "id": "b11e8d67",
   "metadata": {},
   "outputs": [
    {
     "data": {
      "application/vnd.jupyter.widget-view+json": {
       "model_id": "0062796413e644b3bf1059f6ee2080e5",
       "version_major": 2,
       "version_minor": 0
      },
      "text/plain": [
       "NGLWidget()"
      ]
     },
     "metadata": {},
     "output_type": "display_data"
    }
   ],
   "source": [
    "# This does not work for me with cif files in TestCode. It did work with a different materials project cif.\n",
    "nglview.show_file('C:/Users/holde/Documents/GitHub/ClusterPrepForDFT/TestCode/aegirine.cif')"
   ]
  },
  {
   "cell_type": "code",
   "execution_count": 3,
   "id": "9e4835af",
   "metadata": {},
   "outputs": [],
   "source": [
    "from pymatgen.core import Structure"
   ]
  },
  {
   "cell_type": "code",
   "execution_count": 4,
   "id": "25f149b9",
   "metadata": {},
   "outputs": [
    {
     "data": {
      "application/vnd.jupyter.widget-view+json": {
       "model_id": "631f5cf0ed9442fa8b5adc8a72bf80dd",
       "version_major": 2,
       "version_minor": 0
      },
      "text/plain": [
       "NGLWidget()"
      ]
     },
     "metadata": {},
     "output_type": "display_data"
    }
   ],
   "source": [
    "# This one seems to work fine\n",
    "st = Structure.from_file('C:/Users/holde/Documents/GitHub/ClusterPrepForDFT/TestCode/hematite.cif')\n",
    "nglview.show_pymatgen(st)"
   ]
  },
  {
   "cell_type": "code",
   "execution_count": 6,
   "id": "07136e27",
   "metadata": {},
   "outputs": [],
   "source": [
    "from ClusterPrepForDFT import *"
   ]
  },
  {
   "cell_type": "code",
   "execution_count": 8,
   "id": "97ad8d50",
   "metadata": {},
   "outputs": [],
   "source": [
    "mol = make_molecular_cluster_from_cif('C:/Users/holde/Documents/GitHub/ClusterPrepForDFT/TestCode/hematite.cif')"
   ]
  },
  {
   "cell_type": "code",
   "execution_count": null,
   "id": "56c3253a",
   "metadata": {},
   "outputs": [],
   "source": [
    "nglview.s"
   ]
  }
 ],
 "metadata": {
  "kernelspec": {
   "display_name": "Python 3",
   "language": "python",
   "name": "python3"
  },
  "language_info": {
   "codemirror_mode": {
    "name": "ipython",
    "version": 3
   },
   "file_extension": ".py",
   "mimetype": "text/x-python",
   "name": "python",
   "nbconvert_exporter": "python",
   "pygments_lexer": "ipython3",
   "version": "3.8.8"
  }
 },
 "nbformat": 4,
 "nbformat_minor": 5
}
